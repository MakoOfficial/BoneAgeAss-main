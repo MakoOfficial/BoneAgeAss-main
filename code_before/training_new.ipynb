{
 "cells": [
  {
   "cell_type": "code",
   "execution_count": 1,
   "metadata": {},
   "outputs": [],
   "source": [
    "import myKit"
   ]
  },
  {
   "cell_type": "code",
   "execution_count": 2,
   "metadata": {},
   "outputs": [],
   "source": [
    "data_dir = './dataset/'\n",
    "num_epochs, lr, wd = 10, 2e-3, 5e-4\n",
    "lr_period, lr_decay = 10, 0.5"
   ]
  },
  {
   "cell_type": "code",
   "execution_count": 3,
   "metadata": {},
   "outputs": [
    {
     "name": "stdout",
     "output_type": "stream",
     "text": [
      "1\n",
      "2\n",
      "3\n",
      "4\n",
      "5\n",
      "6\n",
      "7\n",
      "8\n",
      "9\n",
      "10\n",
      "11\n",
      "12\n",
      "13\n",
      "14\n",
      "15\n",
      "16\n",
      "17\n",
      "18\n",
      "19\n",
      "20\n",
      "21\n",
      "22\n",
      "23\n",
      "24\n",
      "25\n",
      "26\n",
      "27\n",
      "28\n",
      "29\n",
      "30\n",
      "31\n",
      "32\n",
      "33\n",
      "34\n",
      "35\n",
      "36\n",
      "37\n",
      "38\n",
      "39\n",
      "40\n",
      "41\n",
      "42\n",
      "43\n",
      "44\n",
      "45\n",
      "46\n",
      "47\n",
      "48\n",
      "49\n",
      "50\n",
      "51\n",
      "52\n",
      "53\n",
      "54\n",
      "55\n",
      "56\n",
      "57\n",
      "58\n",
      "59\n",
      "60\n",
      "61\n",
      "62\n",
      "63\n",
      "64\n",
      "65\n",
      "66\n",
      "67\n",
      "68\n",
      "69\n",
      "70\n",
      "71\n",
      "72\n",
      "73\n",
      "74\n",
      "75\n",
      "76\n",
      "77\n",
      "78\n",
      "79\n",
      "80\n",
      "81\n",
      "82\n",
      "83\n",
      "84\n",
      "85\n",
      "86\n",
      "87\n",
      "88\n",
      "89\n",
      "90\n",
      "91\n",
      "92\n",
      "93\n",
      "94\n",
      "95\n",
      "96\n",
      "97\n",
      "98\n",
      "99\n",
      "100\n",
      "101\n",
      "102\n",
      "103\n",
      "104\n",
      "105\n",
      "106\n",
      "107\n",
      "108\n",
      "109\n",
      "110\n",
      "111\n",
      "112\n",
      "113\n",
      "114\n",
      "115\n",
      "116\n",
      "117\n",
      "118\n",
      "119\n",
      "120\n",
      "121\n",
      "122\n",
      "123\n",
      "124\n",
      "125\n",
      "126\n"
     ]
    }
   ],
   "source": [
    "data = myKit.read_all_image(rootPath='./dataset/small-training-dataset')\n",
    "Id, age, gender = myKit.read_labels(data_dir, 'small-training-dataset.csv')"
   ]
  },
  {
   "cell_type": "code",
   "execution_count": 4,
   "metadata": {},
   "outputs": [],
   "source": [
    "data = data[:100, :]\n",
    "age = age[:100, :]\n",
    "gender = gender[:100, :]"
   ]
  },
  {
   "cell_type": "code",
   "execution_count": 5,
   "metadata": {},
   "outputs": [
    {
     "name": "stderr",
     "output_type": "stream",
     "text": [
      "  0%|          | 0/10 [00:00<?, ?it/s]"
     ]
    },
    {
     "name": "stdout",
     "output_type": "stream",
     "text": [
      "epoch: 1\n",
      "预测值 实际值\n",
      "<class 'torch.Tensor'> <class 'torch.Tensor'>\n",
      "132.53,   94.0\n",
      "110.31,   168.0\n",
      "132.53,   72.0\n",
      "125.28,   96.0\n",
      "108.4,   120.0\n",
      "127.96,   120.0\n",
      "132.53,   180.0\n",
      "132.53,   144.0\n",
      "110.78,   132.0\n",
      "125.28,   84.0\n"
     ]
    },
    {
     "name": "stderr",
     "output_type": "stream",
     "text": [
      " 10%|█         | 1/10 [00:16<02:30, 16.77s/it]"
     ]
    },
    {
     "name": "stdout",
     "output_type": "stream",
     "text": [
      "预测值 实际值\n",
      "-629503.92,   94.0\n",
      "-629503.92,   168.0\n",
      "-629504.75,   72.0\n",
      "-629504.75,   96.0\n",
      "-863380.25,   120.0\n",
      "-629504.75,   120.0\n",
      "-1395057.51,   180.0\n",
      "-1900341.24,   144.0\n",
      "-1247760.71,   132.0\n",
      "-629503.92,   84.0\n",
      "epoch: 2\n",
      "预测值 实际值\n",
      "<class 'torch.Tensor'> <class 'torch.Tensor'>\n",
      "-651983.05,   94.0\n",
      "-629503.92,   168.0\n",
      "-629504.75,   72.0\n",
      "-629504.75,   96.0\n",
      "-629504.75,   120.0\n",
      "-629504.75,   120.0\n",
      "-629504.75,   180.0\n",
      "-629504.75,   144.0\n",
      "-796523.77,   132.0\n",
      "-708984.94,   84.0\n"
     ]
    },
    {
     "name": "stderr",
     "output_type": "stream",
     "text": [
      " 20%|██        | 2/10 [00:28<01:49, 13.71s/it]"
     ]
    },
    {
     "name": "stdout",
     "output_type": "stream",
     "text": [
      "预测值 实际值\n",
      "116.67,   94.0\n",
      "116.67,   168.0\n",
      "119.25,   72.0\n",
      "119.26,   96.0\n",
      "116.74,   120.0\n",
      "119.25,   120.0\n",
      "119.25,   180.0\n",
      "116.67,   144.0\n",
      "119.25,   132.0\n",
      "119.25,   84.0\n",
      "epoch: 3\n",
      "预测值 实际值\n",
      "<class 'torch.Tensor'> <class 'torch.Tensor'>\n",
      "116.72,   94.0\n",
      "116.68,   168.0\n",
      "116.67,   72.0\n",
      "116.67,   96.0\n",
      "119.25,   120.0\n",
      "116.67,   120.0\n",
      "119.28,   180.0\n",
      "116.67,   144.0\n",
      "116.68,   132.0\n",
      "119.25,   84.0\n"
     ]
    },
    {
     "name": "stderr",
     "output_type": "stream",
     "text": [
      " 30%|███       | 3/10 [00:41<01:33, 13.34s/it]"
     ]
    },
    {
     "name": "stdout",
     "output_type": "stream",
     "text": [
      "预测值 实际值\n",
      "109.65,   94.0\n",
      "109.65,   168.0\n",
      "105.77,   72.0\n",
      "109.65,   96.0\n",
      "109.65,   120.0\n",
      "109.65,   120.0\n",
      "109.64,   180.0\n",
      "109.65,   144.0\n",
      "105.77,   132.0\n",
      "105.77,   84.0\n",
      "epoch: 4\n",
      "预测值 实际值\n",
      "<class 'torch.Tensor'> <class 'torch.Tensor'>\n",
      "105.77,   94.0\n",
      "105.77,   168.0\n",
      "109.65,   72.0\n",
      "105.77,   96.0\n",
      "109.65,   120.0\n",
      "105.77,   120.0\n",
      "105.77,   180.0\n",
      "105.76,   144.0\n",
      "109.65,   132.0\n",
      "105.77,   84.0\n"
     ]
    },
    {
     "name": "stderr",
     "output_type": "stream",
     "text": [
      " 40%|████      | 4/10 [00:54<01:19, 13.27s/it]"
     ]
    },
    {
     "name": "stdout",
     "output_type": "stream",
     "text": [
      "预测值 实际值\n",
      "93.76,   94.0\n",
      "92.65,   168.0\n",
      "92.65,   72.0\n",
      "93.76,   96.0\n",
      "93.76,   120.0\n",
      "92.65,   120.0\n",
      "92.65,   180.0\n",
      "92.65,   144.0\n",
      "92.65,   132.0\n",
      "92.65,   84.0\n",
      "epoch: 5\n",
      "预测值 实际值\n",
      "<class 'torch.Tensor'> <class 'torch.Tensor'>\n",
      "92.65,   94.0\n",
      "93.76,   168.0\n",
      "93.76,   72.0\n",
      "93.76,   96.0\n",
      "92.65,   120.0\n",
      "93.76,   120.0\n",
      "92.65,   180.0\n",
      "93.76,   144.0\n",
      "93.76,   132.0\n",
      "93.76,   84.0\n"
     ]
    },
    {
     "name": "stderr",
     "output_type": "stream",
     "text": [
      " 50%|█████     | 5/10 [01:09<01:09, 13.93s/it]"
     ]
    },
    {
     "name": "stdout",
     "output_type": "stream",
     "text": [
      "预测值 实际值\n",
      "122.94,   94.0\n",
      "122.94,   168.0\n",
      "120.13,   72.0\n",
      "122.94,   96.0\n",
      "122.94,   120.0\n",
      "122.94,   120.0\n",
      "122.94,   180.0\n",
      "120.13,   144.0\n",
      "122.94,   132.0\n",
      "120.13,   84.0\n",
      "epoch: 6\n",
      "预测值 实际值\n",
      "<class 'torch.Tensor'> <class 'torch.Tensor'>\n",
      "122.94,   94.0\n",
      "120.13,   168.0\n",
      "120.13,   72.0\n",
      "122.94,   96.0\n",
      "120.13,   120.0\n",
      "120.13,   120.0\n",
      "120.13,   180.0\n",
      "122.94,   144.0\n",
      "122.94,   132.0\n",
      "122.94,   84.0\n"
     ]
    },
    {
     "name": "stderr",
     "output_type": "stream",
     "text": [
      " 60%|██████    | 6/10 [01:20<00:51, 12.97s/it]"
     ]
    },
    {
     "name": "stdout",
     "output_type": "stream",
     "text": [
      "预测值 实际值\n",
      "131.11,   94.0\n",
      "132.15,   168.0\n",
      "131.11,   72.0\n",
      "131.11,   96.0\n",
      "132.15,   120.0\n",
      "131.11,   120.0\n",
      "132.15,   180.0\n",
      "131.11,   144.0\n",
      "132.15,   132.0\n",
      "131.11,   84.0\n",
      "epoch: 7\n",
      "预测值 实际值\n",
      "<class 'torch.Tensor'> <class 'torch.Tensor'>\n",
      "131.11,   94.0\n",
      "131.11,   168.0\n",
      "132.15,   72.0\n",
      "132.15,   96.0\n",
      "131.11,   120.0\n",
      "132.15,   120.0\n",
      "131.11,   180.0\n",
      "132.15,   144.0\n",
      "131.11,   132.0\n",
      "131.11,   84.0\n"
     ]
    },
    {
     "name": "stderr",
     "output_type": "stream",
     "text": [
      " 70%|███████   | 7/10 [01:33<00:38, 12.85s/it]"
     ]
    },
    {
     "name": "stdout",
     "output_type": "stream",
     "text": [
      "预测值 实际值\n",
      "110.15,   94.0\n",
      "110.15,   168.0\n",
      "108.47,   72.0\n",
      "110.15,   96.0\n",
      "110.15,   120.0\n",
      "108.47,   120.0\n",
      "108.47,   180.0\n",
      "108.47,   144.0\n",
      "108.47,   132.0\n",
      "108.47,   84.0\n",
      "epoch: 8\n",
      "预测值 实际值\n",
      "<class 'torch.Tensor'> <class 'torch.Tensor'>\n",
      "110.15,   94.0\n",
      "110.15,   168.0\n",
      "110.15,   72.0\n",
      "110.15,   96.0\n",
      "108.47,   120.0\n",
      "108.47,   120.0\n",
      "108.47,   180.0\n",
      "110.15,   144.0\n",
      "108.47,   132.0\n",
      "108.47,   84.0\n"
     ]
    },
    {
     "name": "stderr",
     "output_type": "stream",
     "text": [
      " 80%|████████  | 8/10 [01:46<00:26, 13.04s/it]"
     ]
    },
    {
     "name": "stdout",
     "output_type": "stream",
     "text": [
      "预测值 实际值\n",
      "118.62,   94.0\n",
      "116.7,   168.0\n",
      "116.7,   72.0\n",
      "118.62,   96.0\n",
      "116.7,   120.0\n",
      "118.62,   120.0\n",
      "116.7,   180.0\n",
      "116.7,   144.0\n",
      "116.7,   132.0\n",
      "116.7,   84.0\n",
      "epoch: 9\n",
      "预测值 实际值\n",
      "<class 'torch.Tensor'> <class 'torch.Tensor'>\n",
      "116.7,   94.0\n",
      "116.7,   168.0\n",
      "118.62,   72.0\n",
      "116.7,   96.0\n",
      "118.62,   120.0\n",
      "116.7,   120.0\n",
      "118.62,   180.0\n",
      "118.62,   144.0\n",
      "118.62,   132.0\n",
      "118.62,   84.0\n"
     ]
    },
    {
     "name": "stderr",
     "output_type": "stream",
     "text": [
      " 90%|█████████ | 9/10 [01:58<00:12, 12.68s/it]"
     ]
    },
    {
     "name": "stdout",
     "output_type": "stream",
     "text": [
      "预测值 实际值\n",
      "111.4,   94.0\n",
      "110.32,   168.0\n",
      "110.32,   72.0\n",
      "110.32,   96.0\n",
      "110.32,   120.0\n",
      "111.4,   120.0\n",
      "110.32,   180.0\n",
      "110.32,   144.0\n",
      "111.4,   132.0\n",
      "110.32,   84.0\n"
     ]
    },
    {
     "name": "stderr",
     "output_type": "stream",
     "text": [
      " 90%|█████████ | 9/10 [02:08<00:14, 14.23s/it]\n"
     ]
    },
    {
     "ename": "KeyboardInterrupt",
     "evalue": "",
     "output_type": "error",
     "traceback": [
      "\u001b[1;31m---------------------------------------------------------------------------\u001b[0m",
      "\u001b[1;31mKeyboardInterrupt\u001b[0m                         Traceback (most recent call last)",
      "\u001b[1;32mf:\\GitCode\\BoneAgeAss-main\\BoneAgeAss-main\\training_new.ipynb Cell 5\u001b[0m in \u001b[0;36m<cell line: 1>\u001b[1;34m()\u001b[0m\n\u001b[1;32m----> <a href='vscode-notebook-cell:/f%3A/GitCode/BoneAgeAss-main/BoneAgeAss-main/training_new.ipynb#W4sZmlsZQ%3D%3D?line=0'>1</a>\u001b[0m train_l, valid_l \u001b[39m=\u001b[39m myKit\u001b[39m.\u001b[39;49mk_fold(\u001b[39m5\u001b[39;49m, data, age, gender, num_epochs, lr, wd, \u001b[39m10\u001b[39;49m, lr_period, lr_decay)\n\u001b[0;32m      <a href='vscode-notebook-cell:/f%3A/GitCode/BoneAgeAss-main/BoneAgeAss-main/training_new.ipynb#W4sZmlsZQ%3D%3D?line=1'>2</a>\u001b[0m train_l, valid_l\n",
      "File \u001b[1;32mf:\\GitCode\\BoneAgeAss-main\\BoneAgeAss-main\\myKit.py:306\u001b[0m, in \u001b[0;36mk_fold\u001b[1;34m(k, train_data, train_age, train_gender, num_epochs, learning_rate, weight_decay, batch_size, lr_period, lr_decay, isEnsemble)\u001b[0m\n\u001b[0;32m    304\u001b[0m data \u001b[39m=\u001b[39m get_k_fole_data(k, i, train_data, train_age, train_gender)\n\u001b[0;32m    305\u001b[0m net \u001b[39m=\u001b[39m get_net(isEnsemble\u001b[39m=\u001b[39misEnsemble)\n\u001b[1;32m--> 306\u001b[0m train_ls, valid_ls \u001b[39m=\u001b[39m train_eachRun(net, \u001b[39m*\u001b[39;49mdata, num_epoch\u001b[39m=\u001b[39;49mnum_epochs, lr\u001b[39m=\u001b[39;49mlearning_rate, wd\u001b[39m=\u001b[39;49mweight_decay, lr_period\u001b[39m=\u001b[39;49mlr_period, lr_decay\u001b[39m=\u001b[39;49mlr_decay, batch_size\u001b[39m=\u001b[39;49mbatch_size)\n\u001b[0;32m    307\u001b[0m train_ls \u001b[39m=\u001b[39m torch\u001b[39m.\u001b[39mtensor(train_ls, device\u001b[39m=\u001b[39m\u001b[39m'\u001b[39m\u001b[39mcpu\u001b[39m\u001b[39m'\u001b[39m)\n\u001b[0;32m    308\u001b[0m valid_ls \u001b[39m=\u001b[39m torch\u001b[39m.\u001b[39mtensor(valid_ls, device\u001b[39m=\u001b[39m\u001b[39m'\u001b[39m\u001b[39mcpu\u001b[39m\u001b[39m'\u001b[39m)\n",
      "File \u001b[1;32mf:\\GitCode\\BoneAgeAss-main\\BoneAgeAss-main\\myKit.py:220\u001b[0m, in \u001b[0;36mtrain_eachRun\u001b[1;34m(net, train_data, train_age, train_gender, test_data, test_age, test_gender, num_epoch, lr, wd, lr_period, lr_decay, batch_size, moduleSavePath)\u001b[0m\n\u001b[0;32m    218\u001b[0m     \u001b[39m# 反向传播\u001b[39;00m\n\u001b[0;32m    219\u001b[0m     total_loss\u001b[39m.\u001b[39mbackward()\n\u001b[1;32m--> 220\u001b[0m     trainer\u001b[39m.\u001b[39;49mstep()\n\u001b[0;32m    221\u001b[0m     this_batch_loss \u001b[39m+\u001b[39m\u001b[39m=\u001b[39m l\u001b[39m.\u001b[39mitem()\n\u001b[0;32m    222\u001b[0m \u001b[39m# 一个批量训练完后将损失总值放入列表末尾\u001b[39;00m\n",
      "File \u001b[1;32md:\\Anaconda\\envs\\pytorch\\lib\\site-packages\\torch\\optim\\lr_scheduler.py:65\u001b[0m, in \u001b[0;36m_LRScheduler.__init__.<locals>.with_counter.<locals>.wrapper\u001b[1;34m(*args, **kwargs)\u001b[0m\n\u001b[0;32m     63\u001b[0m instance\u001b[39m.\u001b[39m_step_count \u001b[39m+\u001b[39m\u001b[39m=\u001b[39m \u001b[39m1\u001b[39m\n\u001b[0;32m     64\u001b[0m wrapped \u001b[39m=\u001b[39m func\u001b[39m.\u001b[39m\u001b[39m__get__\u001b[39m(instance, \u001b[39mcls\u001b[39m)\n\u001b[1;32m---> 65\u001b[0m \u001b[39mreturn\u001b[39;00m wrapped(\u001b[39m*\u001b[39margs, \u001b[39m*\u001b[39m\u001b[39m*\u001b[39mkwargs)\n",
      "File \u001b[1;32md:\\Anaconda\\envs\\pytorch\\lib\\site-packages\\torch\\optim\\optimizer.py:88\u001b[0m, in \u001b[0;36mOptimizer._hook_for_profile.<locals>.profile_hook_step.<locals>.wrapper\u001b[1;34m(*args, **kwargs)\u001b[0m\n\u001b[0;32m     86\u001b[0m profile_name \u001b[39m=\u001b[39m \u001b[39m\"\u001b[39m\u001b[39mOptimizer.step#\u001b[39m\u001b[39m{}\u001b[39;00m\u001b[39m.step\u001b[39m\u001b[39m\"\u001b[39m\u001b[39m.\u001b[39mformat(obj\u001b[39m.\u001b[39m\u001b[39m__class__\u001b[39m\u001b[39m.\u001b[39m\u001b[39m__name__\u001b[39m)\n\u001b[0;32m     87\u001b[0m \u001b[39mwith\u001b[39;00m torch\u001b[39m.\u001b[39mautograd\u001b[39m.\u001b[39mprofiler\u001b[39m.\u001b[39mrecord_function(profile_name):\n\u001b[1;32m---> 88\u001b[0m     \u001b[39mreturn\u001b[39;00m func(\u001b[39m*\u001b[39margs, \u001b[39m*\u001b[39m\u001b[39m*\u001b[39mkwargs)\n",
      "File \u001b[1;32md:\\Anaconda\\envs\\pytorch\\lib\\site-packages\\torch\\autograd\\grad_mode.py:27\u001b[0m, in \u001b[0;36m_DecoratorContextManager.__call__.<locals>.decorate_context\u001b[1;34m(*args, **kwargs)\u001b[0m\n\u001b[0;32m     24\u001b[0m \u001b[39m@functools\u001b[39m\u001b[39m.\u001b[39mwraps(func)\n\u001b[0;32m     25\u001b[0m \u001b[39mdef\u001b[39;00m \u001b[39mdecorate_context\u001b[39m(\u001b[39m*\u001b[39margs, \u001b[39m*\u001b[39m\u001b[39m*\u001b[39mkwargs):\n\u001b[0;32m     26\u001b[0m     \u001b[39mwith\u001b[39;00m \u001b[39mself\u001b[39m\u001b[39m.\u001b[39mclone():\n\u001b[1;32m---> 27\u001b[0m         \u001b[39mreturn\u001b[39;00m func(\u001b[39m*\u001b[39margs, \u001b[39m*\u001b[39m\u001b[39m*\u001b[39mkwargs)\n",
      "File \u001b[1;32md:\\Anaconda\\envs\\pytorch\\lib\\site-packages\\torch\\optim\\adam.py:141\u001b[0m, in \u001b[0;36mAdam.step\u001b[1;34m(self, closure)\u001b[0m\n\u001b[0;32m    138\u001b[0m             \u001b[39m# record the step after step update\u001b[39;00m\n\u001b[0;32m    139\u001b[0m             state_steps\u001b[39m.\u001b[39mappend(state[\u001b[39m'\u001b[39m\u001b[39mstep\u001b[39m\u001b[39m'\u001b[39m])\n\u001b[1;32m--> 141\u001b[0m     F\u001b[39m.\u001b[39;49madam(params_with_grad,\n\u001b[0;32m    142\u001b[0m            grads,\n\u001b[0;32m    143\u001b[0m            exp_avgs,\n\u001b[0;32m    144\u001b[0m            exp_avg_sqs,\n\u001b[0;32m    145\u001b[0m            max_exp_avg_sqs,\n\u001b[0;32m    146\u001b[0m            state_steps,\n\u001b[0;32m    147\u001b[0m            amsgrad\u001b[39m=\u001b[39;49mgroup[\u001b[39m'\u001b[39;49m\u001b[39mamsgrad\u001b[39;49m\u001b[39m'\u001b[39;49m],\n\u001b[0;32m    148\u001b[0m            beta1\u001b[39m=\u001b[39;49mbeta1,\n\u001b[0;32m    149\u001b[0m            beta2\u001b[39m=\u001b[39;49mbeta2,\n\u001b[0;32m    150\u001b[0m            lr\u001b[39m=\u001b[39;49mgroup[\u001b[39m'\u001b[39;49m\u001b[39mlr\u001b[39;49m\u001b[39m'\u001b[39;49m],\n\u001b[0;32m    151\u001b[0m            weight_decay\u001b[39m=\u001b[39;49mgroup[\u001b[39m'\u001b[39;49m\u001b[39mweight_decay\u001b[39;49m\u001b[39m'\u001b[39;49m],\n\u001b[0;32m    152\u001b[0m            eps\u001b[39m=\u001b[39;49mgroup[\u001b[39m'\u001b[39;49m\u001b[39meps\u001b[39;49m\u001b[39m'\u001b[39;49m],\n\u001b[0;32m    153\u001b[0m            maximize\u001b[39m=\u001b[39;49mgroup[\u001b[39m'\u001b[39;49m\u001b[39mmaximize\u001b[39;49m\u001b[39m'\u001b[39;49m])\n\u001b[0;32m    154\u001b[0m \u001b[39mreturn\u001b[39;00m loss\n",
      "File \u001b[1;32md:\\Anaconda\\envs\\pytorch\\lib\\site-packages\\torch\\optim\\_functional.py:110\u001b[0m, in \u001b[0;36madam\u001b[1;34m(params, grads, exp_avgs, exp_avg_sqs, max_exp_avg_sqs, state_steps, amsgrad, beta1, beta2, lr, weight_decay, eps, maximize)\u001b[0m\n\u001b[0;32m    105\u001b[0m     denom \u001b[39m=\u001b[39m (exp_avg_sq\u001b[39m.\u001b[39msqrt() \u001b[39m/\u001b[39m math\u001b[39m.\u001b[39msqrt(bias_correction2))\u001b[39m.\u001b[39madd_(eps)\n\u001b[0;32m    109\u001b[0m step_size \u001b[39m=\u001b[39m lr \u001b[39m/\u001b[39m bias_correction1\n\u001b[1;32m--> 110\u001b[0m param\u001b[39m.\u001b[39;49maddcdiv_(exp_avg, denom, value\u001b[39m=\u001b[39;49m\u001b[39m-\u001b[39;49mstep_size)\n",
      "\u001b[1;31mKeyboardInterrupt\u001b[0m: "
     ]
    }
   ],
   "source": [
    "train_l, valid_l = myKit.k_fold(5, data, age, gender, num_epochs, lr, wd, 10, lr_period, lr_decay)\n",
    "train_l, valid_l\n"
   ]
  }
 ],
 "metadata": {
  "kernelspec": {
   "display_name": "pytorch",
   "language": "python",
   "name": "python3"
  },
  "language_info": {
   "codemirror_mode": {
    "name": "ipython",
    "version": 3
   },
   "file_extension": ".py",
   "mimetype": "text/x-python",
   "name": "python",
   "nbconvert_exporter": "python",
   "pygments_lexer": "ipython3",
   "version": "3.9.12"
  },
  "orig_nbformat": 4,
  "vscode": {
   "interpreter": {
    "hash": "0747f93ff6db21b2db2bf35ad4858dd0825b9c21797c41b4cc32097944ab3f10"
   }
  }
 },
 "nbformat": 4,
 "nbformat_minor": 2
}
