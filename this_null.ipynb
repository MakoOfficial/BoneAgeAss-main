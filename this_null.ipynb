{
 "cells": [
  {
   "cell_type": "code",
   "execution_count": 1,
   "metadata": {},
   "outputs": [],
   "source": [
    "import torch\n",
    "import os\n",
    "import numpy as np\n",
    "import pandas as pd\n",
    "from PIL import Image, ImageOps\n",
    "from torchvision import transforms\n",
    "import cv2\n",
    "from albumentations.augmentations.transforms import Lambda, RandomBrightnessContrast\n",
    "from albumentations.augmentations.geometric.transforms import ShiftScaleRotate, HorizontalFlip\n",
    "from albumentations.pytorch.transforms import ToTensorV2\n",
    "from albumentations.augmentations.crops.transforms import RandomResizedCrop\n",
    "from albumentations import Compose\n",
    "from torch import nn\n",
    "import collections\n",
    "import myKit"
   ]
  },
  {
   "cell_type": "code",
   "execution_count": 2,
   "metadata": {},
   "outputs": [],
   "source": [
    "import matplotlib.pyplot as plt\n",
    "from d2l import torch as d2l\n",
    "import csv"
   ]
  },
  {
   "cell_type": "code",
   "execution_count": 25,
   "metadata": {},
   "outputs": [
    {
     "data": {
      "text/plain": [
       "tensor([[1.],\n",
       "        [1.],\n",
       "        [1.],\n",
       "        [1.],\n",
       "        [1.],\n",
       "        [1.],\n",
       "        [1.],\n",
       "        [1.],\n",
       "        [1.],\n",
       "        [1.]])"
      ]
     },
     "execution_count": 25,
     "metadata": {},
     "output_type": "execute_result"
    }
   ],
   "source": [
    "loss = nn.L1Loss(reduction='none')\n",
    "a = torch.zeros((230,1))\n",
    "b = torch.ones((10,1))\n",
    "d = torch.zeros((10, 1))\n",
    "for i in range(b.shape[0]):\n",
    "    if a[i]:\n",
    "        b[i] += i\n",
    "    \n",
    "# out = torch.cat([a, b], dim=0)\n",
    "out = loss(d, b)\n",
    "# out[4]\n",
    "c = torch.rand((10, 1))\n",
    "for i in range(b.shape[0]):\n",
    "    a[int(b[i])] += 1\n",
    "\n",
    "b"
   ]
  },
  {
   "cell_type": "code",
   "execution_count": 4,
   "metadata": {},
   "outputs": [
    {
     "name": "stdout",
     "output_type": "stream",
     "text": [
      "0\n",
      "1\n",
      "2\n",
      "3\n",
      "4\n",
      "5\n",
      "6\n",
      "7\n",
      "8\n",
      "9\n"
     ]
    }
   ],
   "source": [
    "for i in range(10):\n",
    "    print(i)"
   ]
  },
  {
   "cell_type": "code",
   "execution_count": 5,
   "metadata": {},
   "outputs": [
    {
     "name": "stdout",
     "output_type": "stream",
     "text": [
      "预测值 实际值\n"
     ]
    },
    {
     "data": {
      "text/plain": [
       "slice(4, 9, None)"
      ]
     },
     "execution_count": 5,
     "metadata": {},
     "output_type": "execute_result"
    }
   ],
   "source": [
    "list1 = torch.ones(10, 1)\n",
    "list2 = torch.zeros(10, 1)\n",
    "print('预测值 实际值')\n",
    "# for data1, data2 in zip(list1, list2):\n",
    "#     print(f'{data1.item()},   {data2.item()}')\n",
    "idx = slice(4, len(list1)-1)\n",
    "idx"
   ]
  },
  {
   "cell_type": "code",
   "execution_count": 6,
   "metadata": {},
   "outputs": [
    {
     "data": {
      "text/plain": [
       "[<matplotlib.lines.Line2D at 0x1b3188b0280>]"
      ]
     },
     "execution_count": 6,
     "metadata": {},
     "output_type": "execute_result"
    },
    {
     "data": {
      "image/png": "[encoded data removed]",
      "text/plain": [
       "<Figure size 504x360 with 1 Axes>"
      ]
     },
     "metadata": {
      "needs_background": "light"
     },
     "output_type": "display_data"
    }
   ],
   "source": [
    "output = torch.ones(10, 1, requires_grad=True)*2.5\n",
    "target = torch.ones(10, 1)\n",
    "LOSSresult = nn.L1Loss(reduction='sum') #设置损失函数的参数/实例化\n",
    "# type(LOSSresult(output, target).item())\n",
    "# for i in range(8):\n",
    "#     print(i)\n",
    "x = list(range(1, len(output)+1))\n",
    "y = output.tolist()\n",
    "x1 = list(range(1, len(target)+1))\n",
    "y1 = target.tolist()\n",
    "fig = plt.figure(figsize=(7, 5))\n",
    "ax1 = fig.add_subplot(1, 1, 1)\n",
    "\n",
    "plt.plot(x, y, 'r-')\n",
    "# plt.legend()\n",
    "# plt.xlabel(u'iters')\n",
    "# plt.ylabel(u'loss')\n",
    "# plt.title('Compare loss for different models in training.')\n",
    "# plt.show()"
   ]
  },
  {
   "cell_type": "code",
   "execution_count": 7,
   "metadata": {},
   "outputs": [
    {
     "data": {
      "text/plain": [
       "torch.Size([10, 230])"
      ]
     },
     "execution_count": 7,
     "metadata": {},
     "output_type": "execute_result"
    }
   ],
   "source": [
    "a = torch.rand((3, 512, 512))\n",
    "b = torch.rand((3, 512, 512))\n",
    "c = torch.cat([a, b], dim=0)\n",
    "d = torch.reshape(a, (1, 3, 512 ,512))\n",
    "e = torch.randint(1, 10, (10, 1))\n",
    "e_label = torch.zeros((10, 230))\n",
    "for i in range(e.shape[0]):\n",
    "    e_label[i][e[i][0]] = 1\n",
    "e_label.shape"
   ]
  },
  {
   "cell_type": "code",
   "execution_count": 8,
   "metadata": {},
   "outputs": [],
   "source": [
    "def read_csv_labels_noMale(fname):\n",
    "    \"\"\"读取标签，返回字典格式`\"\"\"\n",
    "    with open(fname, 'r') as f:\n",
    "        # Skip the file header line (column name) 跳过文件头\n",
    "        lines = f.readlines()[1:]\n",
    "    tokens = [l.rstrip().split(',') for l in lines]\n",
    "    # return dict(((id, boneage) for id, boneage, male in tokens))\n",
    "    return dict((id, boneage) for id, boneage, male in tokens)\n",
    "\n",
    "original_labels = read_csv_labels_noMale('../data/archive/boneage-training-dataset.csv')\n",
    "train_labels = read_csv_labels_noMale('../data/archive/train-dataset.csv')\n",
    "valid_labels = read_csv_labels_noMale('../data/archive/valid-dataset.csv')\n",
    "original_df = pd.read_csv('../data/archive/boneage-training-dataset.csv')\n",
    "train_df = pd.read_csv('../data/archive/train-dataset.csv')\n",
    "valid_df = pd.read_csv('../data/archive/valid-dataset.csv')"
   ]
  },
  {
   "attachments": {},
   "cell_type": "markdown",
   "metadata": {},
   "source": [
    "第一步：先从valid_csv中删除多于2的记录\n",
    "算法步骤：从头遍历csv，每个年龄最多取两次，生成新的csv文件"
   ]
  },
  {
   "cell_type": "code",
   "execution_count": 9,
   "metadata": {},
   "outputs": [
    {
     "name": "stdout",
     "output_type": "stream",
     "text": [
      "1545\n",
      "3225\n",
      "1851\n",
      "2030\n",
      "3215\n",
      "3061\n",
      "1685\n",
      "1590\n",
      "5866\n",
      "4239\n",
      "3260\n",
      "2845\n",
      "3080\n",
      "1605\n",
      "3407\n",
      "3249\n",
      "1899\n",
      "3155\n",
      "3680\n",
      "1512\n",
      "5921\n",
      "5830\n",
      "3484\n",
      "2657\n",
      "3875\n",
      "2148\n",
      "4078\n",
      "4281\n",
      "1865\n",
      "2712\n",
      "1840\n",
      "3354\n",
      "2168\n",
      "2507\n",
      "2871\n",
      "4753\n",
      "3547\n",
      "3465\n",
      "1781\n",
      "1775\n",
      "2970\n",
      "2853\n",
      "2213\n",
      "1873\n",
      "2505\n",
      "4277\n",
      "2934\n",
      "4788\n",
      "3568\n",
      "4193\n",
      "2799\n",
      "3700\n",
      "1799\n",
      "3898\n",
      "8633\n",
      "3602\n",
      "2070\n",
      "3876\n",
      "3459\n",
      "3928\n",
      "3120\n",
      "3173\n",
      "1936\n",
      "2176\n",
      "2838\n",
      "7191\n",
      "2160\n",
      "1964\n",
      "2271\n",
      "2626\n",
      "2834\n",
      "5409\n",
      "2108\n",
      "3448\n",
      "3535\n",
      "3387\n",
      "3840\n",
      "3998\n",
      "2858\n",
      "4018\n",
      "3121\n",
      "7886\n",
      "7939\n",
      "3187\n",
      "3331\n",
      "3174\n",
      "5366\n",
      "3421\n",
      "10055\n",
      "3436\n",
      "3503\n",
      "3590\n",
      "3900\n",
      "3935\n",
      "8717\n",
      "12023\n",
      "6912\n",
      "7038\n",
      "13038\n",
      "14486\n"
     ]
    }
   ],
   "source": [
    "count = collections.Counter(valid_labels.values())\n",
    "need_aug_age = []\n",
    "for key in count.keys():\n",
    "    if count[key] < 2:\n",
    "        need_aug_age.append(key)\n",
    "\n",
    "for age in need_aug_age:\n",
    "    for key in original_labels.keys():\n",
    "        if age == str(original_labels[key]):\n",
    "            if key not in train_labels.keys() and key not in valid_labels.keys():\n",
    "                print(key)\n",
    "                break"
   ]
  },
  {
   "cell_type": "code",
   "execution_count": 10,
   "metadata": {},
   "outputs": [],
   "source": [
    "def delete_from_csv(DF, data_num):\n",
    "    \"\"\"从验证的csv中删除多于data_num的记录\"\"\"\n",
    "    valid_list = [['id', 'boneage', 'male']]\n",
    "    label_count = {}\n",
    "    for idx, row in DF.iterrows():\n",
    "        label = str(row['boneage'])\n",
    "        if label not in label_count or label_count[label] < data_num:\n",
    "            valid_list.append([row['id'], row['boneage'], row['male']])\n",
    "            label_count[label] = label_count.get(label, 0) + 1\n",
    "    with open('../data/archive/delete_from_csv.csv', 'w', newline='') as csvfile:\n",
    "        writer = csv.writer(csvfile)\n",
    "        for row in valid_list:\n",
    "            writer.writerow(row)\n",
    "\n",
    "def aug_from_csv(valid_labels, train_df, original_labels):\n",
    "    \"\"\"将裁剪过的csv，增广到所需要的csv，默认增广到2\"\"\"\n",
    "    valid_list = []\n",
    "    count = collections.Counter(valid_labels.values())\n",
    "    need_aug_age = []\n",
    "    for key in count.keys():\n",
    "        if count[key] < 2:\n",
    "            need_aug_age.append(key)\n",
    "            # print(key)\n",
    "    need_id = {}\n",
    "    for age in need_aug_age:\n",
    "        for key1 in original_labels.keys():\n",
    "            if age == str(original_labels[key1]):\n",
    "                if key1 not in train_labels.keys() and key1 not in valid_labels.keys():\n",
    "                    need_id[key] = 0\n",
    "                    break\n",
    "    print(need_id.keys())\n",
    "    # for idx, row in train_df.iterrows():\n",
    "    #     if row['id'] in need_id.keys():\n",
    "    #         valid_list.append([row['id'], row['boneage'], row['male']])\n",
    "    # with open('../data/archive/delete_from_csv.csv', 'a+', newline='') as csvfile:\n",
    "    #     writer = csv.writer(csvfile)\n",
    "    #     for row in valid_list:\n",
    "    #         writer.writerow(row)\n",
    "\n",
    "# delete_from_csv(valid_df, 2)\n",
    "\n"
   ]
  },
  {
   "cell_type": "code",
   "execution_count": 11,
   "metadata": {},
   "outputs": [],
   "source": [
    "def create_dataset_from_csv(DF):\n",
    "    \"\"\"从验证的csv中删除多于data_num的记录\"\"\"\n",
    "    label_count = {}\n",
    "    for idx, row in DF.iterrows():\n",
    "        label = str(row['boneage'])\n",
    "        filename = os.path.join('../data/archive/boneage-training-dataset', f\"{row['id']}.png\")\n",
    "        myKit.copyfile(filename, os.path.join('../data/archive', 'valid-dataset'))\n",
    "create_dataset_from_csv(valid_df)"
   ]
  },
  {
   "cell_type": "code",
   "execution_count": 12,
   "metadata": {},
   "outputs": [],
   "source": [
    "new_valid_lables = read_csv_labels_noMale('../data/archive/delete_from_csv.csv')\n",
    "# aug_from_csv(new_valid_lables, train_df, original_labels)"
   ]
  },
  {
   "cell_type": "code",
   "execution_count": 13,
   "metadata": {},
   "outputs": [],
   "source": [
    "# new_valid = read_csv_labels_noMale('../data/archive/delete_from_csv.csv')\n",
    "# collections.Counter(new_valid.values())"
   ]
  }
 ],
 "metadata": {
  "kernelspec": {
   "display_name": "pytorch",
   "language": "python",
   "name": "python3"
  },
  "language_info": {
   "codemirror_mode": {
    "name": "ipython",
    "version": 3
   },
   "file_extension": ".py",
   "mimetype": "text/x-python",
   "name": "python",
   "nbconvert_exporter": "python",
   "pygments_lexer": "ipython3",
   "version": "3.9.12"
  },
  "orig_nbformat": 4,
  "vscode": {
   "interpreter": {
    "hash": "0747f93ff6db21b2db2bf35ad4858dd0825b9c21797c41b4cc32097944ab3f10"
   }
  }
 },
 "nbformat": 4,
 "nbformat_minor": 2
}
